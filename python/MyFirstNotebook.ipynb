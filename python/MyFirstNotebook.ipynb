{
 "cells": [
  {
   "cell_type": "markdown",
   "metadata": {
    "collapsed": true
   },
   "source": [
    "# Hello World!"
   ]
  },
  {
   "cell_type": "markdown",
   "metadata": {},
   "source": [
    "## This is my first Notebook in Python"
   ]
  },
  {
   "cell_type": "markdown",
   "metadata": {},
   "source": [
    "Notebook documents (or “notebooks”) are documents which contains both, computer code (e.g. Python code) and rich text elements (paragraph, images, equations, figures, links, etc...). Notebook documents are both human-readable documents containing the analysis description and the results (figures, tables, etc..) as well as executable documents which can be run to perform data analysis."
   ]
  },
  {
   "cell_type": "markdown",
   "metadata": {},
   "source": [
    "In this Paragraph we are going to use an image. The Markdown for enter an image is **\\!\\[ \\]( )** So let's use it to show an image: \n",
    "![IBM LOGO](https://upload.wikimedia.org/wikipedia/commons/thumb/5/51/IBM_logo.svg/250px-IBM_logo.svg.png)\n"
   ]
  },
  {
   "cell_type": "markdown",
   "metadata": {},
   "source": [
    "In this URL you can find a good **Markdown Cheatsheet**: https://github.com/adam-p/markdown-here/wiki/Markdown-Cheatsheet"
   ]
  },
  {
   "cell_type": "markdown",
   "metadata": {},
   "source": [
    "Ok, previous cells are just *Markdown cells*. "
   ]
  },
  {
   "cell_type": "markdown",
   "metadata": {},
   "source": [
    "The next cell is a *code cell*. And I'm going to use it as a calculator:"
   ]
  },
  {
   "cell_type": "code",
   "execution_count": 21,
   "metadata": {
    "collapsed": false
   },
   "outputs": [
    {
     "data": {
      "text/plain": [
       "76056"
      ]
     },
     "execution_count": 21,
     "metadata": {},
     "output_type": "execute_result"
    }
   ],
   "source": [
    "(323 * 234) + (1423 / 3)"
   ]
  },
  {
   "cell_type": "markdown",
   "metadata": {},
   "source": [
    "Now I'm going to use the **print** & **if/else** functions from Pyhton:"
   ]
  },
  {
   "cell_type": "code",
   "execution_count": 22,
   "metadata": {
    "collapsed": false
   },
   "outputs": [
    {
     "name": "stdout",
     "output_type": "stream",
     "text": [
      "Congratulations! You can drive a car in Spain.\n"
     ]
    }
   ],
   "source": [
    "# Hi! I'm am a comment on the code. \n",
    "# If you write '#' and text, this text will be interpreted as a comment\n",
    "\n",
    "# First we define the 'age' variable\n",
    "age = 29\n",
    "\n",
    "# Now we are going to use if/else functions \n",
    "# to evaluate if the 'age' variable is greater than 18\n",
    "if age > 18:\n",
    "    print 'Congratulations! You can drive a car in Spain.'\n",
    "else:\n",
    "    print 'You can not drive a car in Spain :('"
   ]
  },
  {
   "cell_type": "markdown",
   "metadata": {},
   "source": [
    "![Fibonacci](https://upload.wikimedia.org/wikipedia/commons/thumb/3/35/Fibonacci2.jpg/150px-Fibonacci2.jpg)\n",
    "![Fib](https://upload.wikimedia.org/wikipedia/commons/thumb/9/93/Fibonacci_spiral_34.svg/280px-Fibonacci_spiral_34.svg.png)\n",
    "Ok, let's do something more complex. We cancalculate the Fibonacci numbers. In the Fibonacci sequence of numbers, each number is the sum of the previous two numbers. We will use a loop (**while** function) and create a custom function for that called **fib()**. How to do it?"
   ]
  },
  {
   "cell_type": "code",
   "execution_count": 53,
   "metadata": {
    "collapsed": false
   },
   "outputs": [
    {
     "name": "stdout",
     "output_type": "stream",
     "text": [
      "0\n",
      "1\n",
      "1\n",
      "2\n",
      "3\n",
      "5\n",
      "8\n",
      "13\n",
      "21\n",
      "34\n",
      "55\n",
      "89\n",
      "\n"
     ]
    }
   ],
   "source": [
    "def fib(n):\n",
    "    a, b = 0,1\n",
    "    while a < n:\n",
    "        print a\n",
    "        a, b = b, a+b\n",
    "    print\n",
    "    \n",
    "# Call to the fib() function with a number    \n",
    "fib(100)"
   ]
  },
  {
   "cell_type": "markdown",
   "metadata": {},
   "source": [
    "## Now we are going to do something more cool. A graph."
   ]
  },
  {
   "cell_type": "code",
   "execution_count": 12,
   "metadata": {
    "collapsed": true
   },
   "outputs": [],
   "source": [
    "# First we must import a graph library called matplotlib\n",
    "%matplotlib inline\n",
    "import pylab as plt\n",
    "import seaborn"
   ]
  },
  {
   "cell_type": "code",
   "execution_count": 13,
   "metadata": {
    "collapsed": true
   },
   "outputs": [],
   "source": [
    "# Now we give some set the figure size\n",
    "plt.rc('figure', figsize=(10, 5))"
   ]
  },
  {
   "cell_type": "code",
   "execution_count": 20,
   "metadata": {
    "collapsed": false
   },
   "outputs": [
    {
     "data": {
      "image/png": "[encoded data removed]",
      "text/plain": [
       "<matplotlib.figure.Figure at 0x7fe1cd730ed0>"
      ]
     },
     "metadata": {},
     "output_type": "display_data"
    }
   ],
   "source": [
    "# Generating some ramdom values using the normal distribution and standard deviation\n",
    "samples_1 = np.random.normal(loc=1, scale=.5, size=10000)\n",
    "samples_2 = np.random.standard_t(df=10, size=10000)\n",
    "bins = np.linspace(-4, 4, 60)\n",
    "\n",
    "# Set an alpha and use the same bins since we are plotting two hists\n",
    "plt.hist(samples_1, bins=bins, alpha=0.5, label='Samples 1 - Normal')\n",
    "plt.hist(samples_2, bins=bins, alpha=0.5, label='Samples 2 - Standard')\n",
    "plt.legend(loc='upper left');\n",
    "plt.show()"
   ]
  },
  {
   "cell_type": "code",
   "execution_count": null,
   "metadata": {
    "collapsed": true
   },
   "outputs": [],
   "source": []
  }
 ],
 "metadata": {
  "kernelspec": {
   "display_name": "Python 2 with Spark 2.0",
   "language": "python",
   "name": "python2-spark20"
  },
  "language_info": {
   "codemirror_mode": {
    "name": "ipython",
    "version": 2
   },
   "file_extension": ".py",
   "mimetype": "text/x-python",
   "name": "python",
   "nbconvert_exporter": "python",
   "pygments_lexer": "ipython2",
   "version": "2.7.11"
  }
 },
 "nbformat": 4,
 "nbformat_minor": 0
}
